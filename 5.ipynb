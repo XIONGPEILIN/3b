{
 "cells": [
  {
   "cell_type": "code",
   "execution_count": null,
   "metadata": {},
   "outputs": [],
   "source": [
    "import torch\n",
    "from torchvision import models, transforms\n",
    "import torch.optim as optim\n",
    "import numpy as np\n",
    "from matplotlib import pyplot\n",
    "%matplotlib inline\n",
    "from PIL import Image, ImageFilter, ImageChops\n",
    "import matplotlib.pyplot as plt"
   ]
  },
  {
   "cell_type": "code",
   "execution_count": null,
   "metadata": {},
   "outputs": [],
   "source": [
    "class DeepDream:\n",
    "    def __init__(self, image):\n",
    "        self.image = image\n",
    "        self.model = models.vgg16(pretrained=True)\n",
    "        self.model = self.model.cuda()\n",
    "        self.modules = list(self.model.features.modules())\n",
    "        # vgg16 use 224x224 images\n",
    "        imgSize = 224\n",
    "        self.transformNormalise = transforms.Normalize(\n",
    "            mean=[0.485, 0.456, 0.406],\n",
    "            std=[0.229, 0.224, 0.225]\n",
    "        )\n",
    "        self.transformPreprocess = transforms.Compose([\n",
    "            transforms.Resize((imgSize, imgSize)),\n",
    "            transforms.ToTensor(),\n",
    "            self.transformNormalise\n",
    "        ])\n",
    "        self.tensorMean = torch.Tensor([0.485, 0.456, 0.406])\n",
    "        \n",
    "        self.tensorMean = self.tensorMean.cuda()\n",
    "        self.tensorStd = torch.Tensor([0.229, 0.224, 0.225])\n",
    "        self.tensorStd = self.tensorStd.cuda()\n",
    "    def toImage(self, input):\n",
    "        return input * self.tensorStd + self.tensorMean"
   ]
  },
  {
   "cell_type": "code",
   "execution_count": null,
   "metadata": {},
   "outputs": [],
   "source": [
    "class DeepDream(DeepDream):\n",
    "    def deepDream(self, image, layer, iterations, lr):\n",
    "        transformed = self.transformPreprocess(image).unsqueeze(0) # 转换后的图片\n",
    "        transformed = transformed.cuda()\n",
    "        input = torch.autograd.Variable(transformed, requires_grad=True)\n",
    "        self.model.zero_grad()\n",
    "        optimizer = optim.Adam([input.requires_grad_()],lr=0.2)\n",
    "        for _ in range(iterations):\n",
    "            optimizer.zero_grad()\n",
    "            out = input\n",
    "            for layerId in range(layer):\n",
    "                out = self.modules[layerId + 1](out)\n",
    "            loss = -out.norm() # 让负的变小, 正的变大\n",
    "            loss.backward()\n",
    "            optimizer.step()\n",
    "            # input.data = input.data + lr * input.grad.data\n",
    "        input = input.data.squeeze()\n",
    "        input.transpose_(0,1)\n",
    "        input.transpose_(1,2)\n",
    "        input = self.toImage(input)\n",
    "        input = input.cpu()\n",
    "        input = np.clip(input, 0, 1)\n",
    "        return Image.fromarray(np.uint8(input*255))"
   ]
  },
  {
   "cell_type": "code",
   "execution_count": null,
   "metadata": {},
   "outputs": [],
   "source": [
    "class DeepDream(DeepDream):\n",
    "    def deepDreamRecursive(self, image, layer, iterations, lr, num_downscales):\n",
    "        if num_downscales > 0:\n",
    "            # scale down the image\n",
    "            image_small = image.filter(ImageFilter.GaussianBlur(2)) # 高斯模糊\n",
    "            small_size = (int(image.size[0]/2), int(image.size[1]/2))\n",
    "            if (small_size[0] == 0 or small_size[1] == 0):\n",
    "                small_size = image.size\n",
    "            image_small = image_small.resize(small_size, Image.Resampling.LANCZOS)\n",
    "            # run deepDreamRecursive on the scaled down image\n",
    "            image_small = self.deepDreamRecursive(image_small, layer, iterations, lr, num_downscales-1)\n",
    "        img_result = self.deepDream(image, layer, iterations, lr)\n",
    "        img_result = img_result.resize(image.size)\n",
    "        return img_result\n",
    "    def deepDreamProcess(self,iterations):\n",
    "        return self.deepDreamRecursive(self.image, 28, iterations, 0.2, 30)"
   ]
  },
  {
   "cell_type": "code",
   "execution_count": null,
   "metadata": {},
   "outputs": [],
   "source": [
    "IMAGE_PATH = './cat.jpg'\n",
    "img = Image.open(IMAGE_PATH)\n",
    "pyplot.imshow(img)\n",
    "pyplot.title(\"Image loaded from \" + IMAGE_PATH)"
   ]
  },
  {
   "cell_type": "code",
   "execution_count": null,
   "metadata": {},
   "outputs": [],
   "source": [
    "plt.figure(figsize=(100, 50))\n",
    "img_deep_dream1 = DeepDream(img).deepDreamProcess(2)\n",
    "plt.subplot(231)\n",
    "plt.imshow(img_deep_dream1)\n",
    "img_deep_dream2 = DeepDream(img).deepDreamProcess(5)\n",
    "plt.subplot(232)\n",
    "plt.imshow(img_deep_dream2)\n",
    "img_deep_dream3 = DeepDream(img).deepDreamProcess(10)\n",
    "plt.subplot(233)\n",
    "plt.imshow(img_deep_dream3)\n",
    "img_deep_dream4 = DeepDream(img).deepDreamProcess(20)\n",
    "plt.subplot(234)\n",
    "plt.imshow(img_deep_dream4)\n",
    "img_deep_dream5 = DeepDream(img).deepDreamProcess(50)\n",
    "plt.subplot(235)\n",
    "plt.imshow(img_deep_dream5)\n",
    "plt.show()\n"
   ]
  }
 ],
 "metadata": {
  "kernelspec": {
   "display_name": "Python 3.8.13 ('py38': conda)",
   "language": "python",
   "name": "python3"
  },
  "language_info": {
   "codemirror_mode": {
    "name": "ipython",
    "version": 3
   },
   "file_extension": ".py",
   "mimetype": "text/x-python",
   "name": "python",
   "nbconvert_exporter": "python",
   "pygments_lexer": "ipython3",
   "version": "3.9.19"
  },
  "orig_nbformat": 4,
  "vscode": {
   "interpreter": {
    "hash": "d1534bd38aaa559217507cba555970b72c3ef25af158b2c243bb4986fc4ab776"
   }
  }
 },
 "nbformat": 4,
 "nbformat_minor": 2
}
